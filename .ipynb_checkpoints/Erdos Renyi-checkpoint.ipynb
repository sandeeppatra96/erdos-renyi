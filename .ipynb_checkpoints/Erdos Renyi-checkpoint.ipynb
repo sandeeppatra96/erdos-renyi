{
 "cells": [
  {
   "cell_type": "code",
   "execution_count": 1,
   "metadata": {},
   "outputs": [],
   "source": [
    "import numpy as np\n",
    "import scipy\n",
    "import math\n",
    "from matplotlib import pyplot as plt\n",
    "import random\n",
    "%matplotlib inline"
   ]
  },
  {
   "cell_type": "markdown",
   "metadata": {},
   "source": [
    "## Funções do EP"
   ]
  },
  {
   "cell_type": "markdown",
   "metadata": {},
   "source": [
    "Vamos construir uma função que gera grafos não direcionados com loops"
   ]
  },
  {
   "cell_type": "code",
   "execution_count": 2,
   "metadata": {},
   "outputs": [],
   "source": [
    "def sorteia_grafo(n, p):\n",
    "    grafo = np.zeros((n, n))\n",
    "    for i in range(n):\n",
    "        for j in range(i, n):\n",
    "            u = random.random()\n",
    "            if(u < p):\n",
    "                grafo[i][j] = 1\n",
    "                grafo[j][i] = 1\n",
    "    for i in range(n):\n",
    "        if max(grafo[i]) == 0:\n",
    "            grafo[i][i] = 1\n",
    "    return grafo"
   ]
  },
  {
   "cell_type": "code",
   "execution_count": 3,
   "metadata": {},
   "outputs": [],
   "source": [
    "def C(G, v, w, n, caminho, passos_caminho):\n",
    "    if v == w:\n",
    "        if passos_caminho == 0 and G[v][v] == 1:\n",
    "            return 1.0\n",
    "        elif passos_caminho > 0:\n",
    "            return passos_caminho\n",
    "    \n",
    "    fila = []\n",
    "    for j in range(n):\n",
    "        if G[v][j] == 1 and j != v:\n",
    "            if j not in caminho or j == w:\n",
    "                fila.append(j)    \n",
    "    if v != w:\n",
    "        if len(fila) == 0:\n",
    "            return math.inf\n",
    "    elif passos_caminho != 0:\n",
    "        return passos_caminho\n",
    "            \n",
    "    caminhos = []\n",
    "    caminho.append(0)\n",
    "    for vertice in fila:\n",
    "        caminho = caminho[:-1]\n",
    "        caminho.append(vertice)\n",
    "        cam = caminho[:]\n",
    "        c = C(G, vertice, w, n, cam, passos_caminho + 1.0)\n",
    "        caminhos.append(c)\n",
    "\n",
    "    if len(caminhos) == 0:\n",
    "        return math.inf\n",
    "    return np.min(caminhos)    "
   ]
  },
  {
   "cell_type": "markdown",
   "metadata": {},
   "source": [
    "Teremos um total de $\\binom{n}{2} + n = \\dfrac{n(n+1)}{2}$"
   ]
  },
  {
   "cell_type": "code",
   "execution_count": 4,
   "metadata": {},
   "outputs": [],
   "source": [
    "def total_caminhos(n):\n",
    "    return n*(n+1)/2"
   ]
  },
  {
   "cell_type": "code",
   "execution_count": 5,
   "metadata": {},
   "outputs": [],
   "source": [
    "def p_random():\n",
    "    return 0.2 + 0.6*random.random()"
   ]
  },
  {
   "cell_type": "code",
   "execution_count": 6,
   "metadata": {},
   "outputs": [],
   "source": [
    "def simulacao_grafo(n, p):    \n",
    "    grafo = sorteia_grafo(n, p)\n",
    "    contagem_bruta = []\n",
    "    for i in range(len(grafo)):\n",
    "        for j in range(i, len(grafo)):\n",
    "            contagem_bruta.append(C(grafo, i, j, len(grafo), [i], 0))\n",
    "\n",
    "    valores_contados = []\n",
    "    frequencia_vc = []\n",
    "    for i in range (1, n + 1):\n",
    "        valores_contados.append(i)\n",
    "        frequencia_vc.append(contagem_bruta.count(i))\n",
    "\n",
    "    frequencia_vc.append(len(contagem_bruta) - sum(frequencia_vc))\n",
    "    valores_contados.append(math.inf)\n",
    "    total = total_caminhos(n)\n",
    "    probabilidades = [count/total for count in frequencia_vc]\n",
    "\n",
    "    prob_fin = [pr/(1 - probabilidades[-1]) for pr in probabilidades[:-1]]\n",
    "    \n",
    "    return prob_fin"
   ]
  },
  {
   "cell_type": "code",
   "execution_count": 9,
   "metadata": {},
   "outputs": [],
   "source": [
    "def simulacao(n, p):   \n",
    "    vetor_de_medias_C = []\n",
    "    distribuicoes = []\n",
    "\n",
    "    #O vetor de valores contados é fixo\n",
    "    valores_contados = []\n",
    "    for i in range (1, n + 1):\n",
    "            valores_contados.append(i)\n",
    "    valores_contados = np.array(valores_contados)\n",
    "\n",
    "    #Vamos iniciar a simulação com uma distribuição\n",
    "    N = 1   \n",
    "    prob_fin = simulacao_grafo(n,p)\n",
    "    distribuicoes.append(prob_fin)\n",
    "    media_ = np.dot(valores_contados, np.array(prob_fin))\n",
    "    S = 0\n",
    "\n",
    "    #Vamos Iniciar a simulacao\n",
    "    while(True):\n",
    "        prob_fin = simulacao_grafo(n,p)\n",
    "        distribuicoes.append(prob_fin)\n",
    "        media_observacao = np.dot(np.array(valores_contados), np.array(prob_fin))\n",
    "\n",
    "        vetor_de_medias_C.append(media_observacao)\n",
    "        media = np.mean(vetor_de_medias_C)\n",
    "\n",
    "        N = N + 1\n",
    "        if(N > 10):  \n",
    "            S = np.std(vetor_de_medias_C, ddof=1)\n",
    "            if(S > 0):\n",
    "                parada = math.fabs(1.96*(S/math.sqrt(N))) / ( media + 1.96*(S/math.sqrt(N)))\n",
    "                if(parada < 0.01 or N == 1000): break;\n",
    "    \n",
    "    dist = np.sum(np.array(distribuicoes), axis=0)\n",
    "    dist = [d/N for d in dist]\n",
    "    \n",
    "    return [valores_contados, dist, N, media]"
   ]
  },
  {
   "cell_type": "markdown",
   "metadata": {},
   "source": [
    "## Experimentos"
   ]
  },
  {
   "cell_type": "markdown",
   "metadata": {},
   "source": [
    "$P(C = k | C < \\infty) = \\dfrac{P(C = k, C < \\infty)}{P(C < \\infty)}$"
   ]
  },
  {
   "cell_type": "markdown",
   "metadata": {},
   "source": [
    "Vamos definir a probabilidades $p$ que será parâmtro para o modelo Erdos Renyi"
   ]
  },
  {
   "cell_type": "code",
   "execution_count": 31,
   "metadata": {},
   "outputs": [
    {
     "data": {
      "text/plain": [
       "0.2326254202528924"
      ]
     },
     "execution_count": 31,
     "metadata": {},
     "output_type": "execute_result"
    }
   ],
   "source": [
    "p = p_random()\n",
    "p"
   ]
  },
  {
   "cell_type": "markdown",
   "metadata": {},
   "source": [
    "### Modelo n=7"
   ]
  },
  {
   "cell_type": "code",
   "execution_count": 52,
   "metadata": {},
   "outputs": [
    {
     "data": {
      "image/png": "[encoded data removed]",
      "text/plain": [
       "<matplotlib.figure.Figure at 0x1f5cc7f8710>"
      ]
     },
     "metadata": {},
     "output_type": "display_data"
    }
   ],
   "source": [
    "n = 7\n",
    "valores_contados_7, distribuicao_7, N_7, media_7 = simulacao(n, p)\n",
    "plt.bar(valores_contados_7, distribuicao_7)\n",
    "plt.show()"
   ]
  },
  {
   "cell_type": "code",
   "execution_count": 53,
   "metadata": {},
   "outputs": [
    {
     "name": "stdout",
     "output_type": "stream",
     "text": [
      "Número de Simulações para N=7:  950\n",
      "Media de C(V, V') para N=7:  1.6574702006534274\n"
     ]
    }
   ],
   "source": [
    "print(\"Número de Simulações para N=7: \", N_7)\n",
    "print(\"Media de C(V, V') para N=7: \", media_7)"
   ]
  },
  {
   "cell_type": "markdown",
   "metadata": {},
   "source": [
    "### Modelo n=8"
   ]
  },
  {
   "cell_type": "code",
   "execution_count": 54,
   "metadata": {},
   "outputs": [
    {
     "data": {
      "image/png": "[encoded data removed]",
      "text/plain": [
       "<matplotlib.figure.Figure at 0x1f5cccda470>"
      ]
     },
     "metadata": {},
     "output_type": "display_data"
    }
   ],
   "source": [
    "n = 8\n",
    "valores_contados_8, distribuicao_8, N_8, media_8 = simulacao(n, p)\n",
    "plt.bar(valores_contados_8, distribuicao_8)\n",
    "plt.show()"
   ]
  },
  {
   "cell_type": "code",
   "execution_count": 55,
   "metadata": {},
   "outputs": [
    {
     "name": "stdout",
     "output_type": "stream",
     "text": [
      "Número de Simulações para N=8:  944\n",
      "Media de C(V, V') para N=8:  1.7992257641766762\n"
     ]
    }
   ],
   "source": [
    "print(\"Número de Simulações para N=8: \", N_8)\n",
    "print(\"Media de C(V, V') para N=8: \", media_8)"
   ]
  },
  {
   "cell_type": "markdown",
   "metadata": {},
   "source": [
    "### Modelo n=9"
   ]
  },
  {
   "cell_type": "code",
   "execution_count": 56,
   "metadata": {},
   "outputs": [
    {
     "data": {
      "image/png": "[encoded data removed]",
      "text/plain": [
       "<matplotlib.figure.Figure at 0x1f5cdd1a320>"
      ]
     },
     "metadata": {},
     "output_type": "display_data"
    }
   ],
   "source": [
    "n = 9\n",
    "valores_contados_9, distribuicao_9, N_9, media_9 = simulacao(n, p)\n",
    "plt.bar(valores_contados_9, distribuicao_9)\n",
    "plt.show()"
   ]
  },
  {
   "cell_type": "code",
   "execution_count": 57,
   "metadata": {},
   "outputs": [
    {
     "name": "stdout",
     "output_type": "stream",
     "text": [
      "Número de Simulações para N=9:  809\n",
      "Media de C(V, V') para N=9:  1.9287675124724435\n"
     ]
    }
   ],
   "source": [
    "print(\"Número de Simulações para N=9: \", N_9)\n",
    "print(\"Media de C(V, V') para N=9: \", media_9)"
   ]
  },
  {
   "cell_type": "markdown",
   "metadata": {},
   "source": [
    "### Modelo n=10"
   ]
  },
  {
   "cell_type": "code",
   "execution_count": 58,
   "metadata": {},
   "outputs": [
    {
     "data": {
      "image/png": "[encoded data removed]",
      "text/plain": [
       "<matplotlib.figure.Figure at 0x1f5cdd400b8>"
      ]
     },
     "metadata": {},
     "output_type": "display_data"
    }
   ],
   "source": [
    "n = 10\n",
    "valores_contados_10, distribuicao_10, N_10, media_10 = simulacao(n, p)\n",
    "plt.bar(valores_contados_10, distribuicao_10)\n",
    "plt.show()"
   ]
  },
  {
   "cell_type": "code",
   "execution_count": 59,
   "metadata": {},
   "outputs": [
    {
     "name": "stdout",
     "output_type": "stream",
     "text": [
      "Número de Simulações para N=10:  772\n",
      "Media de C(V, V') para N=10:  2.0194676599480346\n"
     ]
    }
   ],
   "source": [
    "print(\"Número de Simulações para N=10: \", N_10)\n",
    "print(\"Media de C(V, V') para N=10: \", media_10)"
   ]
  },
  {
   "cell_type": "markdown",
   "metadata": {},
   "source": [
    "### Modelo n=11"
   ]
  },
  {
   "cell_type": "code",
   "execution_count": 60,
   "metadata": {},
   "outputs": [
    {
     "data": {
      "image/png": "[encoded data removed]",
      "text/plain": [
       "<matplotlib.figure.Figure at 0x1f5cddf7198>"
      ]
     },
     "metadata": {},
     "output_type": "display_data"
    }
   ],
   "source": [
    "n = 11\n",
    "valores_contados_11, distribuicao_11, N_11, media_11 = simulacao(n, p)\n",
    "plt.bar(valores_contados_11, distribuicao_11)\n",
    "plt.show()"
   ]
  },
  {
   "cell_type": "code",
   "execution_count": 61,
   "metadata": {},
   "outputs": [
    {
     "name": "stdout",
     "output_type": "stream",
     "text": [
      "Número de Simulações para N=11:  789\n",
      "Media de C(V, V') para N=11:  2.102501589170153\n"
     ]
    }
   ],
   "source": [
    "print(\"Número de Simulações para N=11: \", N_11)\n",
    "print(\"Media de C(V, V') para N=11: \", media_11)"
   ]
  },
  {
   "cell_type": "markdown",
   "metadata": {},
   "source": [
    "### Modelo n=12"
   ]
  },
  {
   "cell_type": "code",
   "execution_count": 62,
   "metadata": {},
   "outputs": [
    {
     "data": {
      "image/png": "[encoded data removed]",
      "text/plain": [
       "<matplotlib.figure.Figure at 0x1f5cddf2f98>"
      ]
     },
     "metadata": {},
     "output_type": "display_data"
    }
   ],
   "source": [
    "n = 12\n",
    "valores_contados_12, distribuicao_12, N_12, media_12 = simulacao(n, p)\n",
    "plt.bar(valores_contados_12, distribuicao_12)\n",
    "plt.show()"
   ]
  },
  {
   "cell_type": "code",
   "execution_count": 63,
   "metadata": {},
   "outputs": [
    {
     "name": "stdout",
     "output_type": "stream",
     "text": [
      "Número de Simulações para N=12:  657\n",
      "Media de C(V, V') para N=12:  2.1353965101940093\n"
     ]
    }
   ],
   "source": [
    "print(\"Número de Simulações para N=12: \", N_12)\n",
    "print(\"Media de C(V, V') para N=12: \", media_12)"
   ]
  }
 ],
 "metadata": {
  "kernelspec": {
   "display_name": "Python 3",
   "language": "python",
   "name": "python3"
  },
  "language_info": {
   "codemirror_mode": {
    "name": "ipython",
    "version": 3
   },
   "file_extension": ".py",
   "mimetype": "text/x-python",
   "name": "python",
   "nbconvert_exporter": "python",
   "pygments_lexer": "ipython3",
   "version": "3.6.4"
  }
 },
 "nbformat": 4,
 "nbformat_minor": 2
}
