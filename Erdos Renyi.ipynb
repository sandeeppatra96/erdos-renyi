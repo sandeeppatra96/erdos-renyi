{
 "cells": [
  {
   "cell_type": "code",
   "execution_count": 1,
   "metadata": {},
   "outputs": [],
   "source": [
    "import numpy as np\n",
    "import scipy\n",
    "import math\n",
    "from matplotlib import pyplot as plt\n",
    "import random"
   ]
  },
  {
   "cell_type": "code",
   "execution_count": 2,
   "metadata": {},
   "outputs": [],
   "source": [
    "p = 0.2 + 0.6*random.random()"
   ]
  },
  {
   "cell_type": "code",
   "execution_count": 3,
   "metadata": {},
   "outputs": [
    {
     "data": {
      "text/plain": [
       "0.32526941359911465"
      ]
     },
     "execution_count": 3,
     "metadata": {},
     "output_type": "execute_result"
    }
   ],
   "source": [
    "p"
   ]
  },
  {
   "cell_type": "code",
   "execution_count": 4,
   "metadata": {},
   "outputs": [],
   "source": [
    "r = []\n",
    "for i in range(10000):\n",
    "    r.append(0.2 + 0.6*random.random())"
   ]
  },
  {
   "cell_type": "code",
   "execution_count": 5,
   "metadata": {},
   "outputs": [
    {
     "data": {
      "image/png": "[encoded data removed]",
      "text/plain": [
       "<matplotlib.figure.Figure at 0x23c74428668>"
      ]
     },
     "metadata": {},
     "output_type": "display_data"
    }
   ],
   "source": [
    "plt.plot(r)\n",
    "plt.show()"
   ]
  },
  {
   "cell_type": "markdown",
   "metadata": {},
   "source": [
    "Vamos construir uma função que gera grafos não direcionados com loops"
   ]
  },
  {
   "cell_type": "code",
   "execution_count": 12,
   "metadata": {},
   "outputs": [],
   "source": [
    "def sorteia_grafo(n, p):\n",
    "    grafo = np.zeros((n, n))\n",
    "    for i in range(n):\n",
    "        for j in range(i, n):\n",
    "            u = random.random()\n",
    "            if(u < p):\n",
    "                grafo[i][j] = 1\n",
    "                grafo[j][i] = 1\n",
    "    return grafo"
   ]
  },
  {
   "cell_type": "code",
   "execution_count": 13,
   "metadata": {},
   "outputs": [],
   "source": [
    "grafo = sorteia_grafo(5, p)"
   ]
  },
  {
   "cell_type": "code",
   "execution_count": 14,
   "metadata": {},
   "outputs": [
    {
     "data": {
      "text/plain": [
       "array([[1., 0., 0., 0., 1.],\n",
       "       [0., 0., 1., 0., 0.],\n",
       "       [0., 1., 0., 0., 1.],\n",
       "       [0., 0., 0., 0., 1.],\n",
       "       [1., 0., 1., 1., 0.]])"
      ]
     },
     "execution_count": 14,
     "metadata": {},
     "output_type": "execute_result"
    }
   ],
   "source": [
    "grafo"
   ]
  },
  {
   "cell_type": "code",
   "execution_count": 94,
   "metadata": {},
   "outputs": [],
   "source": [
    "def C(G, v, w, n, caminho, passos_caminho):\n",
    "    #print(\"=============\")\n",
    "    #print(\"Vertice Atual: \", v)\n",
    "    #print(\"Objetivo: \", w)\n",
    "    #print(\"Caminho: \", caminho)\n",
    "    #print(\"Passos: \", passos_caminho)\n",
    "    if v == w:\n",
    "        if passos_caminho == 0 and G[v][v] == 1:\n",
    "            return 1\n",
    "        elif passos_caminho > 0:\n",
    "            return passos_caminho\n",
    "    \n",
    "    fila = []\n",
    "    for j in range(n):\n",
    "        if G[v][j] == 1 and j != v:\n",
    "            if j not in caminho or j == w:\n",
    "                fila.append(j)\n",
    "    \n",
    "    #print(\"Fila: \", fila)\n",
    "    \n",
    "    if v != w:\n",
    "        if len(fila) == 0:\n",
    "            return math.inf\n",
    "    elif passos_caminho != 0:\n",
    "        return passos_caminho\n",
    "            \n",
    "    caminhos = []\n",
    "    caminho.append(0)\n",
    "    for vertice in fila:\n",
    "        #print(\"CAMINHOOOO, pré trick: \", caminho)\n",
    "        caminho = caminho[:-1]\n",
    "        caminho.append(vertice)\n",
    "        #print(\"CAMINHOOOO: \", caminho)\n",
    "        #print(\"PROFUNDIDADE: \", passos_caminho, \"\\n\")\n",
    "        cam = caminho[:]\n",
    "        c = C(G, vertice, w, n, cam, passos_caminho + 1)\n",
    "        caminhos.append(c)\n",
    "    \n",
    "    #print(\"\\nCaminhos: \", caminhos)\n",
    "    return np.min(caminhos)    "
   ]
  },
  {
   "cell_type": "code",
   "execution_count": 39,
   "metadata": {},
   "outputs": [
    {
     "data": {
      "text/plain": [
       "array([[1., 0., 0., 0., 1.],\n",
       "       [0., 0., 1., 0., 0.],\n",
       "       [0., 1., 0., 0., 1.],\n",
       "       [0., 0., 0., 0., 1.],\n",
       "       [1., 0., 1., 1., 0.]])"
      ]
     },
     "execution_count": 39,
     "metadata": {},
     "output_type": "execute_result"
    }
   ],
   "source": [
    "grafo"
   ]
  },
  {
   "cell_type": "code",
   "execution_count": 100,
   "metadata": {},
   "outputs": [
    {
     "name": "stdout",
     "output_type": "stream",
     "text": [
      "Resultado:  3.0\n"
     ]
    }
   ],
   "source": [
    "print('Resultado: ', C(grafo, 1, 0, 5, [1], 0))"
   ]
  },
  {
   "cell_type": "code",
   "execution_count": 107,
   "metadata": {},
   "outputs": [
    {
     "name": "stdout",
     "output_type": "stream",
     "text": [
      "==============\n",
      "( 0 , 0 )\n",
      "Resultado:  1\n",
      "==============\n",
      "( 0 , 1 )\n",
      "Resultado:  3.0\n",
      "==============\n",
      "( 0 , 2 )\n",
      "Resultado:  2.0\n",
      "==============\n",
      "( 0 , 3 )\n",
      "Resultado:  2.0\n",
      "==============\n",
      "( 0 , 4 )\n",
      "Resultado:  1\n",
      "==============\n",
      "( 1 , 1 )\n",
      "Resultado:  2.0\n",
      "==============\n",
      "( 1 , 2 )\n",
      "Resultado:  1\n",
      "==============\n",
      "( 1 , 3 )\n",
      "Resultado:  3.0\n",
      "==============\n",
      "( 1 , 4 )\n",
      "Resultado:  2\n",
      "==============\n",
      "( 2 , 2 )\n",
      "Resultado:  2.0\n",
      "==============\n",
      "( 2 , 3 )\n",
      "Resultado:  2.0\n",
      "==============\n",
      "( 2 , 4 )\n",
      "Resultado:  1.0\n",
      "==============\n",
      "( 3 , 3 )\n",
      "Resultado:  2.0\n",
      "==============\n",
      "( 3 , 4 )\n",
      "Resultado:  1\n",
      "==============\n",
      "( 4 , 4 )\n",
      "Resultado:  2.0\n"
     ]
    }
   ],
   "source": [
    "for i in range(len(grafo)):\n",
    "    for j in range(i, len(grafo)):\n",
    "        print(\"==============\")\n",
    "        print(\"(\",i,\",\",j,\")\")\n",
    "        print('Resultado: ', C(grafo, i, j, len(grafo), [i], 0))"
   ]
  },
  {
   "cell_type": "code",
   "execution_count": null,
   "metadata": {},
   "outputs": [],
   "source": []
  },
  {
   "cell_type": "code",
   "execution_count": null,
   "metadata": {},
   "outputs": [],
   "source": []
  },
  {
   "cell_type": "code",
   "execution_count": null,
   "metadata": {},
   "outputs": [],
   "source": []
  },
  {
   "cell_type": "code",
   "execution_count": null,
   "metadata": {},
   "outputs": [],
   "source": []
  },
  {
   "cell_type": "code",
   "execution_count": null,
   "metadata": {},
   "outputs": [],
   "source": []
  },
  {
   "cell_type": "code",
   "execution_count": null,
   "metadata": {},
   "outputs": [],
   "source": []
  },
  {
   "cell_type": "code",
   "execution_count": null,
   "metadata": {},
   "outputs": [],
   "source": []
  },
  {
   "cell_type": "code",
   "execution_count": null,
   "metadata": {},
   "outputs": [],
   "source": []
  }
 ],
 "metadata": {
  "kernelspec": {
   "display_name": "Python 3",
   "language": "python",
   "name": "python3"
  },
  "language_info": {
   "codemirror_mode": {
    "name": "ipython",
    "version": 3
   },
   "file_extension": ".py",
   "mimetype": "text/x-python",
   "name": "python",
   "nbconvert_exporter": "python",
   "pygments_lexer": "ipython3",
   "version": "3.6.4"
  }
 },
 "nbformat": 4,
 "nbformat_minor": 2
}
