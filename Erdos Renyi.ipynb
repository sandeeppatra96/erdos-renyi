{
 "cells": [
  {
   "cell_type": "code",
   "execution_count": 108,
   "metadata": {},
   "outputs": [],
   "source": [
    "import numpy as np\n",
    "import scipy\n",
    "import math\n",
    "from matplotlib import pyplot as plt\n",
    "import random\n",
    "%matplotlib inline"
   ]
  },
  {
   "cell_type": "markdown",
   "metadata": {},
   "source": [
    "### Funções do EP"
   ]
  },
  {
   "cell_type": "markdown",
   "metadata": {},
   "source": [
    "Vamos construir uma função que gera grafos não direcionados com loops"
   ]
  },
  {
   "cell_type": "code",
   "execution_count": 75,
   "metadata": {},
   "outputs": [],
   "source": [
    "def sorteia_grafo(n, p):\n",
    "    grafo = np.zeros((n, n))\n",
    "    for i in range(n):\n",
    "        for j in range(i, n):\n",
    "            u = random.random()\n",
    "            if(u < p):\n",
    "                grafo[i][j] = 1\n",
    "                grafo[j][i] = 1\n",
    "    for i in range(n):\n",
    "        if max(grafo[i]) == 0:\n",
    "            grafo[i][i] = 1\n",
    "    return grafo"
   ]
  },
  {
   "cell_type": "code",
   "execution_count": 139,
   "metadata": {},
   "outputs": [],
   "source": [
    "def C(G, v, w, n, caminho, passos_caminho):\n",
    "    if v == w:\n",
    "        if passos_caminho == 0 and G[v][v] == 1:\n",
    "            return 1.0\n",
    "        elif passos_caminho > 0:\n",
    "            return passos_caminho\n",
    "    \n",
    "    fila = []\n",
    "    for j in range(n):\n",
    "        if G[v][j] == 1 and j != v:\n",
    "            if j not in caminho or j == w:\n",
    "                fila.append(j)    \n",
    "    if v != w:\n",
    "        if len(fila) == 0:\n",
    "            return math.inf\n",
    "    elif passos_caminho != 0:\n",
    "        return passos_caminho\n",
    "            \n",
    "    caminhos = []\n",
    "    caminho.append(0)\n",
    "    for vertice in fila:\n",
    "        caminho = caminho[:-1]\n",
    "        caminho.append(vertice)\n",
    "        cam = caminho[:]\n",
    "        c = C(G, vertice, w, n, cam, passos_caminho + 1.0)\n",
    "        caminhos.append(c)\n",
    "\n",
    "    if len(caminhos) == 0:\n",
    "        return math.inf\n",
    "    return np.min(caminhos)    "
   ]
  },
  {
   "cell_type": "markdown",
   "metadata": {},
   "source": [
    "Teremos um total de $\\binom{n}{2} + n = \\dfrac{n(n+1)}{2}$"
   ]
  },
  {
   "cell_type": "code",
   "execution_count": 96,
   "metadata": {},
   "outputs": [],
   "source": [
    "def total_caminhos(n):\n",
    "    return n*(n+1)/2"
   ]
  },
  {
   "cell_type": "markdown",
   "metadata": {},
   "source": [
    "### Experimentos"
   ]
  },
  {
   "cell_type": "code",
   "execution_count": 140,
   "metadata": {},
   "outputs": [
    {
     "data": {
      "text/plain": [
       "0.33527312719827795"
      ]
     },
     "execution_count": 140,
     "metadata": {},
     "output_type": "execute_result"
    }
   ],
   "source": [
    "p = 0.2 + 0.6*random.random()\n",
    "p"
   ]
  },
  {
   "cell_type": "code",
   "execution_count": 145,
   "metadata": {},
   "outputs": [
    {
     "data": {
      "text/plain": [
       "array([[0., 0., 0., 0., 0., 1., 1., 1.],\n",
       "       [0., 1., 0., 1., 0., 0., 0., 1.],\n",
       "       [0., 0., 0., 0., 0., 0., 0., 1.],\n",
       "       [0., 1., 0., 0., 0., 0., 0., 0.],\n",
       "       [0., 0., 0., 0., 1., 0., 0., 0.],\n",
       "       [1., 0., 0., 0., 0., 0., 1., 0.],\n",
       "       [1., 0., 0., 0., 0., 1., 0., 1.],\n",
       "       [1., 1., 1., 0., 0., 0., 1., 0.]])"
      ]
     },
     "execution_count": 145,
     "metadata": {},
     "output_type": "execute_result"
    }
   ],
   "source": [
    "grafo = sorteia_grafo(8, p)\n",
    "grafo"
   ]
  },
  {
   "cell_type": "code",
   "execution_count": 146,
   "metadata": {},
   "outputs": [],
   "source": [
    "contagem_bruta = []\n",
    "for i in range(len(grafo)):\n",
    "    for j in range(i, len(grafo)):\n",
    "        contagem_bruta.append(C(grafo, i, j, len(grafo), [i], 0))"
   ]
  },
  {
   "cell_type": "code",
   "execution_count": 147,
   "metadata": {},
   "outputs": [
    {
     "data": {
      "text/plain": [
       "inf"
      ]
     },
     "execution_count": 147,
     "metadata": {},
     "output_type": "execute_result"
    }
   ],
   "source": [
    "max(np.unique(contagem_bruta))"
   ]
  },
  {
   "cell_type": "code",
   "execution_count": 148,
   "metadata": {},
   "outputs": [
    {
     "data": {
      "text/plain": [
       "array([1., 2., 3., 4.])"
      ]
     },
     "execution_count": 148,
     "metadata": {},
     "output_type": "execute_result"
    }
   ],
   "source": [
    "e = np.unique(contagem_bruta)\n",
    "inf_ = np.array([math.inf])\n",
    "c = np.setdiff1d(e, inf_)\n",
    "c"
   ]
  },
  {
   "cell_type": "code",
   "execution_count": 149,
   "metadata": {},
   "outputs": [],
   "source": [
    "valores_contados = []\n",
    "frequencia_vc = []\n",
    " \n",
    "for i in range (1, int(max(c)) + 1):\n",
    "    valores_contados.append(i)\n",
    "    frequencia_vc.append(contagem_bruta.count(i))"
   ]
  },
  {
   "cell_type": "code",
   "execution_count": 150,
   "metadata": {},
   "outputs": [
    {
     "data": {
      "text/plain": [
       "29"
      ]
     },
     "execution_count": 150,
     "metadata": {},
     "output_type": "execute_result"
    }
   ],
   "source": [
    "sum(frequencia_vc)"
   ]
  },
  {
   "cell_type": "code",
   "execution_count": 151,
   "metadata": {},
   "outputs": [
    {
     "data": {
      "text/plain": [
       "36"
      ]
     },
     "execution_count": 151,
     "metadata": {},
     "output_type": "execute_result"
    }
   ],
   "source": [
    "len(contagem_bruta)"
   ]
  },
  {
   "cell_type": "code",
   "execution_count": 152,
   "metadata": {},
   "outputs": [],
   "source": [
    "frequencia_vc.append(len(contagem_bruta) - sum(frequencia_vc))"
   ]
  },
  {
   "cell_type": "code",
   "execution_count": 153,
   "metadata": {},
   "outputs": [],
   "source": [
    "valores_contados.append(math.inf)"
   ]
  },
  {
   "cell_type": "code",
   "execution_count": 154,
   "metadata": {},
   "outputs": [
    {
     "data": {
      "text/plain": [
       "[1, 2, 3, 4, inf]"
      ]
     },
     "execution_count": 154,
     "metadata": {},
     "output_type": "execute_result"
    }
   ],
   "source": [
    "valores_contados"
   ]
  },
  {
   "cell_type": "code",
   "execution_count": 155,
   "metadata": {},
   "outputs": [
    {
     "data": {
      "text/plain": [
       "[10, 13, 5, 1, 7]"
      ]
     },
     "execution_count": 155,
     "metadata": {},
     "output_type": "execute_result"
    }
   ],
   "source": [
    "frequencia_vc"
   ]
  },
  {
   "cell_type": "code",
   "execution_count": 156,
   "metadata": {},
   "outputs": [],
   "source": [
    "total = total_caminhos(8)\n",
    "probabilidades = [count/total for count in frequencia_vc]"
   ]
  },
  {
   "cell_type": "code",
   "execution_count": 157,
   "metadata": {},
   "outputs": [
    {
     "data": {
      "text/plain": [
       "[0.2777777777777778,\n",
       " 0.3611111111111111,\n",
       " 0.1388888888888889,\n",
       " 0.027777777777777776,\n",
       " 0.19444444444444445]"
      ]
     },
     "execution_count": 157,
     "metadata": {},
     "output_type": "execute_result"
    }
   ],
   "source": [
    "probabilidades"
   ]
  },
  {
   "cell_type": "code",
   "execution_count": 158,
   "metadata": {},
   "outputs": [
    {
     "data": {
      "text/plain": [
       "0.9999999999999999"
      ]
     },
     "execution_count": 158,
     "metadata": {},
     "output_type": "execute_result"
    }
   ],
   "source": [
    "sum(probabilidades)"
   ]
  },
  {
   "cell_type": "code",
   "execution_count": 159,
   "metadata": {},
   "outputs": [],
   "source": [
    "valores_contados = [str(x) + '_' for x in valores_contados]"
   ]
  },
  {
   "cell_type": "code",
   "execution_count": 160,
   "metadata": {},
   "outputs": [
    {
     "data": {
      "text/plain": [
       "['1_', '2_', '3_', '4_', 'inf_']"
      ]
     },
     "execution_count": 160,
     "metadata": {},
     "output_type": "execute_result"
    }
   ],
   "source": [
    "valores_contados"
   ]
  },
  {
   "cell_type": "code",
   "execution_count": 161,
   "metadata": {},
   "outputs": [],
   "source": [
    "contagem_bruta = [str(x) for x in contagem_bruta]"
   ]
  },
  {
   "cell_type": "code",
   "execution_count": 163,
   "metadata": {},
   "outputs": [
    {
     "data": {
      "image/png": "[encoded data removed]",
      "text/plain": [
       "<matplotlib.figure.Figure at 0x1e29699e3c8>"
      ]
     },
     "metadata": {},
     "output_type": "display_data"
    }
   ],
   "source": [
    "plt.bar(valores_contados, probabilidades)\n",
    "plt.show()"
   ]
  },
  {
   "cell_type": "markdown",
   "metadata": {},
   "source": [
    "### Simulações"
   ]
  },
  {
   "cell_type": "code",
   "execution_count": 173,
   "metadata": {},
   "outputs": [],
   "source": [
    "n = 8"
   ]
  },
  {
   "cell_type": "code",
   "execution_count": 210,
   "metadata": {},
   "outputs": [],
   "source": [
    "grafo = sorteia_grafo(n, p)\n",
    "contagem_bruta = []\n",
    "for i in range(len(grafo)):\n",
    "    for j in range(i, len(grafo)):\n",
    "        contagem_bruta.append(C(grafo, i, j, len(grafo), [i], 0))\n",
    "        \n",
    "valores_contados = []\n",
    "frequencia_vc = []\n",
    "for i in range (1, n + 1):\n",
    "    valores_contados.append(i)\n",
    "    frequencia_vc.append(contagem_bruta.count(i))\n",
    "\n",
    "frequencia_vc.append(len(contagem_bruta) - sum(frequencia_vc))\n",
    "valores_contados.append(math.inf)\n",
    "total = total_caminhos(n)\n",
    "probabilidades = [count/total for count in frequencia_vc]\n",
    "valores_contados = [str(x) + '_' for x in valores_contados]"
   ]
  },
  {
   "cell_type": "code",
   "execution_count": 211,
   "metadata": {},
   "outputs": [
    {
     "data": {
      "image/png": "[encoded data removed]",
      "text/plain": [
       "<matplotlib.figure.Figure at 0x1e296bd1748>"
      ]
     },
     "metadata": {},
     "output_type": "display_data"
    }
   ],
   "source": [
    "plt.bar(valores_contados, probabilidades)\n",
    "plt.show()"
   ]
  }
 ],
 "metadata": {
  "kernelspec": {
   "display_name": "Python 3",
   "language": "python",
   "name": "python3"
  },
  "language_info": {
   "codemirror_mode": {
    "name": "ipython",
    "version": 3
   },
   "file_extension": ".py",
   "mimetype": "text/x-python",
   "name": "python",
   "nbconvert_exporter": "python",
   "pygments_lexer": "ipython3",
   "version": "3.6.4"
  }
 },
 "nbformat": 4,
 "nbformat_minor": 2
}
