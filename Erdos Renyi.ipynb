{
 "cells": [
  {
   "cell_type": "code",
   "execution_count": 2,
   "metadata": {},
   "outputs": [],
   "source": [
    "import numpy as np\n",
    "import scipy\n",
    "import math\n",
    "from matplotlib import pyplot as plt\n",
    "import random\n",
    "from scipy.special import gamma\n",
    "from scipy.stats import nbinom\n",
    "%matplotlib inline"
   ]
  },
  {
   "cell_type": "markdown",
   "metadata": {},
   "source": [
    "## Funções do EP"
   ]
  },
  {
   "cell_type": "markdown",
   "metadata": {},
   "source": [
    "Vamos construir uma função que gera grafos não direcionados com loops, uma função que conta os caminhos mais curtos, funções de simulação com regra de parada e outras rotinas auxililares"
   ]
  },
  {
   "cell_type": "code",
   "execution_count": 3,
   "metadata": {},
   "outputs": [],
   "source": [
    "def sorteia_grafo(n, p):\n",
    "    grafo = np.zeros((n, n))\n",
    "    for i in range(n):\n",
    "        for j in range(i, n):\n",
    "            u = random.random()\n",
    "            if(u < p):\n",
    "                grafo[i][j] = 1\n",
    "                grafo[j][i] = 1\n",
    "    for i in range(n):\n",
    "        if max(grafo[i]) == 0:\n",
    "            grafo[i][i] = 1\n",
    "    return grafo"
   ]
  },
  {
   "cell_type": "code",
   "execution_count": 4,
   "metadata": {},
   "outputs": [],
   "source": [
    "def C(G, v, w, n, caminho, passos_caminho):\n",
    "    if v == w:\n",
    "        if passos_caminho == 0 and G[v][v] == 1:\n",
    "            return 1.0\n",
    "        elif passos_caminho > 0:\n",
    "            return passos_caminho\n",
    "    \n",
    "    fila = []\n",
    "    for j in range(n):\n",
    "        if G[v][j] == 1 and j != v:\n",
    "            if j not in caminho or j == w:\n",
    "                fila.append(j)    \n",
    "    if v != w:\n",
    "        if len(fila) == 0:\n",
    "            return math.inf\n",
    "    elif passos_caminho != 0:\n",
    "        return passos_caminho\n",
    "            \n",
    "    caminhos = []\n",
    "    caminho.append(0)\n",
    "    for vertice in fila:\n",
    "        caminho = caminho[:-1]\n",
    "        caminho.append(vertice)\n",
    "        cam = caminho[:]\n",
    "        c = C(G, vertice, w, n, cam, passos_caminho + 1.0)\n",
    "        caminhos.append(c)\n",
    "\n",
    "    if len(caminhos) == 0:\n",
    "        return math.inf\n",
    "    return np.min(caminhos)    "
   ]
  },
  {
   "cell_type": "markdown",
   "metadata": {},
   "source": [
    "Teremos um total de $\\binom{n}{2} + n = \\dfrac{n(n+1)}{2}$ caminhos para $C$, e $n$ caminhos para $T$."
   ]
  },
  {
   "cell_type": "code",
   "execution_count": 5,
   "metadata": {},
   "outputs": [],
   "source": [
    "def total_caminhos_T(n):\n",
    "    return n*(n+1)/2"
   ]
  },
  {
   "cell_type": "code",
   "execution_count": 6,
   "metadata": {},
   "outputs": [],
   "source": [
    "def p_random():\n",
    "    return 0.2 + 0.6*random.random()"
   ]
  },
  {
   "cell_type": "code",
   "execution_count": 7,
   "metadata": {},
   "outputs": [],
   "source": [
    "def simulacao_grafo(n, p):    \n",
    "    grafo = sorteia_grafo(n, p)\n",
    "    contagem_bruta = []\n",
    "    for i in range(len(grafo)):\n",
    "        for j in range(i, len(grafo)):\n",
    "            contagem_bruta.append(C(grafo, i, j, len(grafo), [i], 0))\n",
    "\n",
    "    valores_contados = []\n",
    "    frequencia_vc = []\n",
    "    for i in range (1, n + 1):\n",
    "        valores_contados.append(i)\n",
    "        frequencia_vc.append(contagem_bruta.count(i))\n",
    "\n",
    "    frequencia_vc.append(len(contagem_bruta) - sum(frequencia_vc))\n",
    "    valores_contados.append(math.inf)\n",
    "    total = total_caminhos(n)\n",
    "    probabilidades = [count/total for count in frequencia_vc]\n",
    "\n",
    "    prob_fin = [pr/(1 - probabilidades[-1]) for pr in probabilidades[:-1]]\n",
    "    \n",
    "    return prob_fin"
   ]
  },
  {
   "cell_type": "code",
   "execution_count": 8,
   "metadata": {},
   "outputs": [],
   "source": [
    "def simulacao(n, p):   \n",
    "    vetor_de_medias_C = []\n",
    "    distribuicoes = []\n",
    "\n",
    "    #O vetor de valores contados é fixo\n",
    "    valores_contados = []\n",
    "    for i in range (1, n + 1):\n",
    "            valores_contados.append(i)\n",
    "    valores_contados = np.array(valores_contados)\n",
    "\n",
    "    #Vamos iniciar a simulação com uma distribuição\n",
    "    N = 1   \n",
    "    prob_fin = simulacao_grafo(n,p)\n",
    "    distribuicoes.append(prob_fin)\n",
    "    media_ = np.dot(valores_contados, np.array(prob_fin))\n",
    "    S = 0\n",
    "\n",
    "    #Vamos Iniciar a simulacao\n",
    "    while(True):\n",
    "        prob_fin = simulacao_grafo(n,p)\n",
    "        distribuicoes.append(prob_fin)\n",
    "        media_observacao = np.dot(np.array(valores_contados), np.array(prob_fin))\n",
    "\n",
    "        vetor_de_medias_C.append(media_observacao)\n",
    "        media = np.mean(vetor_de_medias_C)\n",
    "\n",
    "        N = N + 1\n",
    "        if(N > 10):  \n",
    "            S = np.std(vetor_de_medias_C, ddof=1)\n",
    "            if(S > 0):\n",
    "                parada = math.fabs(1.96*(S/math.sqrt(N))) / ( media + 1.96*(S/math.sqrt(N)))\n",
    "                if(parada < 0.01 or N == 1000): break;\n",
    "    \n",
    "    dist = np.sum(np.array(distribuicoes), axis=0)\n",
    "    dist = [d/N for d in dist]\n",
    "    \n",
    "    return [valores_contados, dist, N, media]"
   ]
  },
  {
   "cell_type": "code",
   "execution_count": 9,
   "metadata": {},
   "outputs": [],
   "source": [
    "def simulacao_grafo_T(n, p):    \n",
    "    grafo = sorteia_grafo(n, p)\n",
    "    contagem_bruta = []\n",
    "    for i in range(len(grafo)):\n",
    "        contagem_bruta.append(C(grafo, i, i, len(grafo), [i], 0))\n",
    "\n",
    "    valores_contados = []\n",
    "    frequencia_vc = []\n",
    "    for i in range (1, n + 1):\n",
    "        valores_contados.append(i)\n",
    "        frequencia_vc.append(contagem_bruta.count(i))\n",
    "\n",
    "    frequencia_vc.append(len(contagem_bruta) - sum(frequencia_vc))\n",
    "    valores_contados.append(math.inf)\n",
    "    total = n\n",
    "    probabilidades = [count/total for count in frequencia_vc]\n",
    "\n",
    "    prob_fin = [pr/(1 - probabilidades[-1]) for pr in probabilidades[:-1]]\n",
    "    \n",
    "    return prob_fin"
   ]
  },
  {
   "cell_type": "code",
   "execution_count": 10,
   "metadata": {},
   "outputs": [],
   "source": [
    "def simulacao_T(n, p):   \n",
    "    vetor_de_medias_C = []\n",
    "    distribuicoes = []\n",
    "\n",
    "    #O vetor de valores contados é fixo\n",
    "    valores_contados = []\n",
    "    for i in range (1, n + 1):\n",
    "            valores_contados.append(i)\n",
    "    valores_contados = np.array(valores_contados)\n",
    "\n",
    "    #Vamos iniciar a simulação com uma distribuição\n",
    "    N = 1   \n",
    "    prob_fin = simulacao_grafo_T(n,p)\n",
    "    distribuicoes.append(prob_fin)\n",
    "    media_ = np.dot(valores_contados, np.array(prob_fin))\n",
    "    S = 0\n",
    "\n",
    "    #Vamos Iniciar a simulacao\n",
    "    while(True):\n",
    "        prob_fin = simulacao_grafo_T(n,p)\n",
    "        distribuicoes.append(prob_fin)\n",
    "        media_observacao = np.dot(np.array(valores_contados), np.array(prob_fin))\n",
    "\n",
    "        vetor_de_medias_C.append(media_observacao)\n",
    "        media = np.mean(vetor_de_medias_C)\n",
    "\n",
    "        N = N + 1\n",
    "        if(N > 10):  \n",
    "            S = np.std(vetor_de_medias_C, ddof=1)\n",
    "            if(S > 0):\n",
    "                parada = math.fabs(1.96*(S/math.sqrt(N))) / ( media + 1.96*(S/math.sqrt(N)))\n",
    "                if(parada < 0.01 or N == 1000): break;\n",
    "    \n",
    "    dist = np.sum(np.array(distribuicoes), axis=0)\n",
    "    dist = [d/N for d in dist]\n",
    "    \n",
    "    return [valores_contados, dist, N, media]"
   ]
  },
  {
   "cell_type": "markdown",
   "metadata": {},
   "source": [
    "## Experimentos com o Caminho mais Curto: C"
   ]
  },
  {
   "cell_type": "markdown",
   "metadata": {},
   "source": [
    "$P(C = k | C < \\infty) = \\dfrac{P(C = k, C < \\infty)}{P(C < \\infty)}$"
   ]
  },
  {
   "cell_type": "markdown",
   "metadata": {},
   "source": [
    "Vamos definir a probabilidades $p$ que será parâmtro para o modelo Erdos Renyi"
   ]
  },
  {
   "cell_type": "code",
   "execution_count": 31,
   "metadata": {},
   "outputs": [
    {
     "data": {
      "text/plain": [
       "0.2326254202528924"
      ]
     },
     "execution_count": 31,
     "metadata": {},
     "output_type": "execute_result"
    }
   ],
   "source": [
    "p = p_random()\n",
    "p"
   ]
  },
  {
   "cell_type": "markdown",
   "metadata": {},
   "source": [
    "### Modelo n=7"
   ]
  },
  {
   "cell_type": "code",
   "execution_count": 52,
   "metadata": {},
   "outputs": [
    {
     "data": {
      "image/png": "[encoded data removed]",
      "text/plain": [
       "<matplotlib.figure.Figure at 0x1f5cc7f8710>"
      ]
     },
     "metadata": {},
     "output_type": "display_data"
    }
   ],
   "source": [
    "n = 7\n",
    "valores_contados_7, distribuicao_7, N_7, media_7 = simulacao(n, p)\n",
    "plt.bar(valores_contados_7, distribuicao_7)\n",
    "plt.show() "
   ]
  },
  {
   "cell_type": "code",
   "execution_count": 53,
   "metadata": {},
   "outputs": [
    {
     "name": "stdout",
     "output_type": "stream",
     "text": [
      "Número de Simulações para N=7:  950\n",
      "Media de C(V, V') para N=7:  1.6574702006534274\n"
     ]
    }
   ],
   "source": [
    "print(\"Número de Simulações para N=7: \", N_7)\n",
    "print(\"Media de C(V, V') para N=7: \", media_7)"
   ]
  },
  {
   "cell_type": "markdown",
   "metadata": {},
   "source": [
    "### Modelo n=8"
   ]
  },
  {
   "cell_type": "code",
   "execution_count": 54,
   "metadata": {},
   "outputs": [
    {
     "data": {
      "image/png": "[encoded data removed]",
      "text/plain": [
       "<matplotlib.figure.Figure at 0x1f5cccda470>"
      ]
     },
     "metadata": {},
     "output_type": "display_data"
    }
   ],
   "source": [
    "n = 8\n",
    "valores_contados_8, distribuicao_8, N_8, media_8 = simulacao(n, p)\n",
    "plt.bar(valores_contados_8, distribuicao_8)\n",
    "plt.show()"
   ]
  },
  {
   "cell_type": "code",
   "execution_count": 55,
   "metadata": {},
   "outputs": [
    {
     "name": "stdout",
     "output_type": "stream",
     "text": [
      "Número de Simulações para N=8:  944\n",
      "Media de C(V, V') para N=8:  1.7992257641766762\n"
     ]
    }
   ],
   "source": [
    "print(\"Número de Simulações para N=8: \", N_8)\n",
    "print(\"Media de C(V, V') para N=8: \", media_8)"
   ]
  },
  {
   "cell_type": "markdown",
   "metadata": {},
   "source": [
    "### Modelo n=9"
   ]
  },
  {
   "cell_type": "code",
   "execution_count": 56,
   "metadata": {},
   "outputs": [
    {
     "data": {
      "image/png": "[encoded data removed]",
      "text/plain": [
       "<matplotlib.figure.Figure at 0x1f5cdd1a320>"
      ]
     },
     "metadata": {},
     "output_type": "display_data"
    }
   ],
   "source": [
    "n = 9\n",
    "valores_contados_9, distribuicao_9, N_9, media_9 = simulacao(n, p)\n",
    "plt.bar(valores_contados_9, distribuicao_9)\n",
    "plt.show()"
   ]
  },
  {
   "cell_type": "code",
   "execution_count": 57,
   "metadata": {},
   "outputs": [
    {
     "name": "stdout",
     "output_type": "stream",
     "text": [
      "Número de Simulações para N=9:  809\n",
      "Media de C(V, V') para N=9:  1.9287675124724435\n"
     ]
    }
   ],
   "source": [
    "print(\"Número de Simulações para N=9: \", N_9)\n",
    "print(\"Media de C(V, V') para N=9: \", media_9)"
   ]
  },
  {
   "cell_type": "markdown",
   "metadata": {},
   "source": [
    "### Modelo n=10"
   ]
  },
  {
   "cell_type": "code",
   "execution_count": 58,
   "metadata": {},
   "outputs": [
    {
     "data": {
      "image/png": "[encoded data removed]",
      "text/plain": [
       "<matplotlib.figure.Figure at 0x1f5cdd400b8>"
      ]
     },
     "metadata": {},
     "output_type": "display_data"
    }
   ],
   "source": [
    "n = 10\n",
    "valores_contados_10, distribuicao_10, N_10, media_10 = simulacao(n, p)\n",
    "plt.bar(valores_contados_10, distribuicao_10)\n",
    "plt.show()"
   ]
  },
  {
   "cell_type": "code",
   "execution_count": 59,
   "metadata": {},
   "outputs": [
    {
     "name": "stdout",
     "output_type": "stream",
     "text": [
      "Número de Simulações para N=10:  772\n",
      "Media de C(V, V') para N=10:  2.0194676599480346\n"
     ]
    }
   ],
   "source": [
    "print(\"Número de Simulações para N=10: \", N_10)\n",
    "print(\"Media de C(V, V') para N=10: \", media_10)"
   ]
  },
  {
   "cell_type": "markdown",
   "metadata": {},
   "source": [
    "### Modelo n=11"
   ]
  },
  {
   "cell_type": "code",
   "execution_count": 60,
   "metadata": {},
   "outputs": [
    {
     "data": {
      "image/png": "[encoded data removed]",
      "text/plain": [
       "<matplotlib.figure.Figure at 0x1f5cddf7198>"
      ]
     },
     "metadata": {},
     "output_type": "display_data"
    }
   ],
   "source": [
    "n = 11\n",
    "valores_contados_11, distribuicao_11, N_11, media_11 = simulacao(n, p)\n",
    "plt.bar(valores_contados_11, distribuicao_11)\n",
    "plt.show()"
   ]
  },
  {
   "cell_type": "code",
   "execution_count": 61,
   "metadata": {},
   "outputs": [
    {
     "name": "stdout",
     "output_type": "stream",
     "text": [
      "Número de Simulações para N=11:  789\n",
      "Media de C(V, V') para N=11:  2.102501589170153\n"
     ]
    }
   ],
   "source": [
    "print(\"Número de Simulações para N=11: \", N_11)\n",
    "print(\"Media de C(V, V') para N=11: \", media_11)"
   ]
  },
  {
   "cell_type": "markdown",
   "metadata": {},
   "source": [
    "### Modelo n=12"
   ]
  },
  {
   "cell_type": "code",
   "execution_count": 62,
   "metadata": {},
   "outputs": [
    {
     "data": {
      "image/png": "[encoded data removed]",
      "text/plain": [
       "<matplotlib.figure.Figure at 0x1f5cddf2f98>"
      ]
     },
     "metadata": {},
     "output_type": "display_data"
    }
   ],
   "source": [
    "n = 12\n",
    "valores_contados_12, distribuicao_12, N_12, media_12 = simulacao(n, p)\n",
    "plt.bar(valores_contados_12, distribuicao_12)\n",
    "plt.show()"
   ]
  },
  {
   "cell_type": "code",
   "execution_count": 63,
   "metadata": {},
   "outputs": [
    {
     "name": "stdout",
     "output_type": "stream",
     "text": [
      "Número de Simulações para N=12:  657\n",
      "Media de C(V, V') para N=12:  2.1353965101940093\n"
     ]
    }
   ],
   "source": [
    "print(\"Número de Simulações para N=12: \", N_12)\n",
    "print(\"Media de C(V, V') para N=12: \", media_12)"
   ]
  },
  {
   "cell_type": "markdown",
   "metadata": {},
   "source": [
    "## Comparações Assintóticas"
   ]
  },
  {
   "cell_type": "markdown",
   "metadata": {},
   "source": [
    "Vamos analisar a seguinte sentença:\n",
    "$$\n",
    "\\left| \\hat{P}(C_{n} = k) - \\hat{P }(C_{n+1} = k) \\right| < \\varphi \n",
    "$$\n",
    "Onde $\\varphi = 0.01$"
   ]
  },
  {
   "cell_type": "markdown",
   "metadata": {},
   "source": [
    "Vamos analisar:\n",
    "\n",
    "$$\n",
    "\\left| \\hat{P}(C_{7} = k) - \\hat{P }(C_{8} = k) \\right|\n",
    "$$"
   ]
  },
  {
   "cell_type": "code",
   "execution_count": 87,
   "metadata": {},
   "outputs": [
    {
     "data": {
      "text/plain": [
       "0.06932935812856612"
      ]
     },
     "execution_count": 87,
     "metadata": {},
     "output_type": "execute_result"
    }
   ],
   "source": [
    "diff_7_8 = []\n",
    "\n",
    "for i in range(7):\n",
    "    diff_7_8.append(math.fabs(distribuicao_7[i] - distribuicao_8[i]))\n",
    "np.linalg.norm(diff_7_8)"
   ]
  },
  {
   "cell_type": "markdown",
   "metadata": {},
   "source": [
    "$$\n",
    "\\left| \\hat{P}(C_{8} = k) - \\hat{P }(C_{9} = k) \\right|\n",
    "$$"
   ]
  },
  {
   "cell_type": "code",
   "execution_count": 74,
   "metadata": {},
   "outputs": [
    {
     "data": {
      "text/plain": [
       "0.06294768010314024"
      ]
     },
     "execution_count": 74,
     "metadata": {},
     "output_type": "execute_result"
    }
   ],
   "source": [
    "diff_8_9 = []\n",
    "\n",
    "for i in range(8):\n",
    "    diff_8_9.append(math.fabs(distribuicao_8[i] - distribuicao_9[i]))\n",
    "np.linalg.norm(diff_8_9)"
   ]
  },
  {
   "cell_type": "markdown",
   "metadata": {},
   "source": [
    "$$\n",
    "\\left| \\hat{P}(C_{9} = k) - \\hat{P }(C_{10} = k) \\right|\n",
    "$$"
   ]
  },
  {
   "cell_type": "code",
   "execution_count": 75,
   "metadata": {},
   "outputs": [
    {
     "data": {
      "text/plain": [
       "0.037042414607618396"
      ]
     },
     "execution_count": 75,
     "metadata": {},
     "output_type": "execute_result"
    }
   ],
   "source": [
    "diff_9_10 = []\n",
    "\n",
    "for i in range(9):\n",
    "    diff_9_10.append(math.fabs(distribuicao_9[i] - distribuicao_10[i]))\n",
    "np.linalg.norm(diff_9_10)"
   ]
  },
  {
   "cell_type": "markdown",
   "metadata": {},
   "source": [
    "$$\n",
    "\\left| \\hat{P}(C_{10} = k) - \\hat{P }(C_{11} = k) \\right|\n",
    "$$"
   ]
  },
  {
   "cell_type": "code",
   "execution_count": 76,
   "metadata": {},
   "outputs": [
    {
     "data": {
      "text/plain": [
       "0.034241898658217876"
      ]
     },
     "execution_count": 76,
     "metadata": {},
     "output_type": "execute_result"
    }
   ],
   "source": [
    "diff_10_11 = []\n",
    "\n",
    "for i in range(10):\n",
    "    diff_10_11.append(math.fabs(distribuicao_10[i] - distribuicao_11[i]))\n",
    "np.linalg.norm(diff_10_11)"
   ]
  },
  {
   "cell_type": "markdown",
   "metadata": {},
   "source": [
    "$$\n",
    "\\left| \\hat{P}(C_{11} = k) - \\hat{P }(C_{12} = k) \\right|\n",
    "$$"
   ]
  },
  {
   "cell_type": "code",
   "execution_count": 77,
   "metadata": {},
   "outputs": [
    {
     "data": {
      "text/plain": [
       "0.026632960502559627"
      ]
     },
     "execution_count": 77,
     "metadata": {},
     "output_type": "execute_result"
    }
   ],
   "source": [
    "diff_11_12 = []\n",
    "\n",
    "for i in range(11):\n",
    "    diff_11_12.append(math.fabs(distribuicao_11[i] - distribuicao_12[i]))\n",
    "np.linalg.norm(diff_11_12)"
   ]
  },
  {
   "cell_type": "markdown",
   "metadata": {},
   "source": [
    "### Comparação Escalada"
   ]
  },
  {
   "cell_type": "code",
   "execution_count": 82,
   "metadata": {},
   "outputs": [
    {
     "data": {
      "text/plain": [
       "0.33436283012420837"
      ]
     },
     "execution_count": 82,
     "metadata": {},
     "output_type": "execute_result"
    }
   ],
   "source": [
    "diff_7_8_escalada = []\n",
    "\n",
    "for i in range(7):\n",
    "    diff_7_8_escalada.append(math.fabs(distribuicao_7[i] - distribuicao_8[i+1]))\n",
    "np.linalg.norm(diff_7_8_escalada)"
   ]
  },
  {
   "cell_type": "code",
   "execution_count": 83,
   "metadata": {},
   "outputs": [
    {
     "data": {
      "text/plain": [
       "0.31087137836688694"
      ]
     },
     "execution_count": 83,
     "metadata": {},
     "output_type": "execute_result"
    }
   ],
   "source": [
    "diff_8_9_escalada = []\n",
    "\n",
    "for i in range(8):\n",
    "    diff_8_9_escalada.append(math.fabs(distribuicao_8[i] - distribuicao_9[i+1]))\n",
    "np.linalg.norm(diff_8_9_escalada)"
   ]
  },
  {
   "cell_type": "code",
   "execution_count": 84,
   "metadata": {},
   "outputs": [
    {
     "data": {
      "text/plain": [
       "0.31087137836688694"
      ]
     },
     "execution_count": 84,
     "metadata": {},
     "output_type": "execute_result"
    }
   ],
   "source": [
    "diff_9_10_escalada = []\n",
    "\n",
    "for i in range(9):\n",
    "    diff_9_10_escalada.append(math.fabs(distribuicao_9[i] - distribuicao_10[i+1]))\n",
    "np.linalg.norm(diff_8_9_escalada)"
   ]
  },
  {
   "cell_type": "code",
   "execution_count": 85,
   "metadata": {},
   "outputs": [
    {
     "data": {
      "text/plain": [
       "0.3040499670790241"
      ]
     },
     "execution_count": 85,
     "metadata": {},
     "output_type": "execute_result"
    }
   ],
   "source": [
    "diff_10_11_escalada = []\n",
    "\n",
    "for i in range(10):\n",
    "    diff_10_11_escalada.append(math.fabs(distribuicao_10[i] - distribuicao_11[i+1]))\n",
    "np.linalg.norm(diff_10_11_escalada)"
   ]
  },
  {
   "cell_type": "code",
   "execution_count": 86,
   "metadata": {},
   "outputs": [
    {
     "data": {
      "text/plain": [
       "0.3081178749209629"
      ]
     },
     "execution_count": 86,
     "metadata": {},
     "output_type": "execute_result"
    }
   ],
   "source": [
    "diff_11_12_escalada = []\n",
    "\n",
    "for i in range(11):\n",
    "    diff_11_12_escalada.append(math.fabs(distribuicao_11[i] - distribuicao_12[i+1]))\n",
    "np.linalg.norm(diff_11_12_escalada)"
   ]
  },
  {
   "cell_type": "markdown",
   "metadata": {},
   "source": [
    "Os resultados nos mostram que as diferenças escaladas são grandes em relação às diferenças não escaladas. As diferenças escaladas não descresceram o suficiente para satisfazer o critério de convergência delimitado, mas o decrescimento assintótico em $n$ é notável: a norma das diferenças não escaladas para $n=7$ e $n=8$ foi de $0.069$, enquanto a norma para $n=11$ e $n=12$ foi de $0.026$."
   ]
  },
  {
   "cell_type": "markdown",
   "metadata": {},
   "source": [
    "## Distribuição Proposta e Teste de Aderência"
   ]
  },
  {
   "cell_type": "markdown",
   "metadata": {},
   "source": [
    "Vamos iniciar observando algumas distribuições discretas"
   ]
  },
  {
   "cell_type": "code",
   "execution_count": 111,
   "metadata": {},
   "outputs": [],
   "source": [
    "def poisson(k, lambda_):\n",
    "    return (np.exp(-lambda_)*math.pow(lambda_, k))/math.factorial(k)"
   ]
  },
  {
   "cell_type": "code",
   "execution_count": 114,
   "metadata": {},
   "outputs": [],
   "source": [
    "def geometric(k, p):\n",
    "    return math.pow(1-p, k-1)*p"
   ]
  },
  {
   "cell_type": "code",
   "execution_count": 122,
   "metadata": {},
   "outputs": [],
   "source": [
    "def binomial(k, n, p):\n",
    "    mult = 1\n",
    "    for i in range(n-k+1, n+1):\n",
    "        mult = mult*i\n",
    "    return (mult/math.factorial(k))*math.pow(p, k)*math.pow(1-p, n-k)"
   ]
  },
  {
   "cell_type": "code",
   "execution_count": 143,
   "metadata": {},
   "outputs": [
    {
     "data": {
      "image/png": "[encoded data removed]",
      "text/plain": [
       "<matplotlib.figure.Figure at 0x1f5cccbfb38>"
      ]
     },
     "metadata": {},
     "output_type": "display_data"
    }
   ],
   "source": [
    "x = np.arange(1, 8)\n",
    "p = [poisson(x_, 2) for x_ in x]\n",
    "plt.plot(x, p)\n",
    "plt.show()"
   ]
  },
  {
   "cell_type": "code",
   "execution_count": 137,
   "metadata": {},
   "outputs": [
    {
     "data": {
      "image/png": "[encoded data removed]",
      "text/plain": [
       "<matplotlib.figure.Figure at 0x1f5cc76b240>"
      ]
     },
     "metadata": {},
     "output_type": "display_data"
    }
   ],
   "source": [
    "x = np.arange(1, 8)\n",
    "p = [geometric(x_, 0.4) for x_ in x]\n",
    "plt.plot(x, p)\n",
    "plt.show()"
   ]
  },
  {
   "cell_type": "code",
   "execution_count": 174,
   "metadata": {},
   "outputs": [
    {
     "data": {
      "image/png": "[encoded data removed]",
      "text/plain": [
       "<matplotlib.figure.Figure at 0x1f5ccca74a8>"
      ]
     },
     "metadata": {},
     "output_type": "display_data"
    }
   ],
   "source": [
    "x = np.arange(1, 8)\n",
    "p = [binomial(x_, 12, 0.18) for x_ in x]\n",
    "plt.plot(x, p)\n",
    "plt.show()"
   ]
  },
  {
   "cell_type": "markdown",
   "metadata": {},
   "source": [
    "como as distribuições não parecem se ajustar bem à distribuição de $C$, vamos observar a distribuição Gamma"
   ]
  },
  {
   "cell_type": "code",
   "execution_count": 191,
   "metadata": {},
   "outputs": [],
   "source": [
    "def gamma_dist(x, alpha, beta):\n",
    "    return (1/(beta*gamma(alpha)))*math.pow((x/beta), alpha-1)*np.exp(-x/beta)"
   ]
  },
  {
   "cell_type": "code",
   "execution_count": 211,
   "metadata": {},
   "outputs": [
    {
     "data": {
      "image/png": "[encoded data removed]",
      "text/plain": [
       "<matplotlib.figure.Figure at 0x1f5ce54e470>"
      ]
     },
     "metadata": {},
     "output_type": "display_data"
    }
   ],
   "source": [
    "x = np.arange(1, 13)\n",
    "gamma_valores = [gamma_dist(x_, 5, 0.4) for x_ in x]\n",
    "plt.plot(x, gamma_valores)\n",
    "plt.show()"
   ]
  },
  {
   "cell_type": "code",
   "execution_count": 253,
   "metadata": {},
   "outputs": [
    {
     "data": {
      "image/png": "[encoded data removed]",
      "text/plain": [
       "<matplotlib.figure.Figure at 0x1f5ce8ba128>"
      ]
     },
     "metadata": {},
     "output_type": "display_data"
    }
   ],
   "source": [
    "x = np.arange(1, 13)\n",
    "g_ = [gamma_dist(x_, 5, 0.42) for x_ in x]\n",
    "plt.plot(x, g_)\n",
    "plt.show()"
   ]
  },
  {
   "cell_type": "code",
   "execution_count": 254,
   "metadata": {},
   "outputs": [
    {
     "data": {
      "text/plain": [
       "[0.29478665939030496,\n",
       " 0.43610727100070756,\n",
       " 0.20413801291045186,\n",
       " 0.05965465641802181,\n",
       " 0.013466350686262342,\n",
       " 0.002581905980586415,\n",
       " 0.00044227572318206925,\n",
       " 6.976320245091735e-05,\n",
       " 1.033241919509933e-05,\n",
       " 1.4561211133957138e-06,\n",
       " 1.971213927551405e-07,\n",
       " 2.5813893967470667e-08]"
      ]
     },
     "execution_count": 254,
     "metadata": {},
     "output_type": "execute_result"
    }
   ],
   "source": [
    "g_"
   ]
  },
  {
   "cell_type": "code",
   "execution_count": 242,
   "metadata": {},
   "outputs": [
    {
     "data": {
      "text/plain": [
       "[0.2760314046896178,\n",
       " 0.44074528824361275,\n",
       " 0.19057856638966464,\n",
       " 0.0667275410087882,\n",
       " 0.018705572828345316,\n",
       " 0.005330354583903475,\n",
       " 0.001493680983185577,\n",
       " 0.00036807755473952625,\n",
       " 1.951371814385513e-05,\n",
       " 0.0,\n",
       " 0.0,\n",
       " 0.0]"
      ]
     },
     "execution_count": 242,
     "metadata": {},
     "output_type": "execute_result"
    }
   ],
   "source": [
    "distribuicao_12"
   ]
  },
  {
   "cell_type": "code",
   "execution_count": 208,
   "metadata": {},
   "outputs": [
    {
     "data": {
      "text/plain": [
       "0.06254842349026579"
      ]
     },
     "execution_count": 208,
     "metadata": {},
     "output_type": "execute_result"
    }
   ],
   "source": [
    "dif_fit = []\n",
    "\n",
    "for i in range(12):\n",
    "    dif_fit.append(math.fabs(distribuicao_12[i] - p[i]))\n",
    "np.linalg.norm(dif_fit)"
   ]
  },
  {
   "cell_type": "markdown",
   "metadata": {},
   "source": [
    "$$\n",
    "\\normalsize Gamma\\ distribution\\\\ (1)\\ probability\\ density\\\\ \\hspace{30px}f(x,a,b)={\\large\\frac{1}{\\Gamma(a)b}\\left(\\frac{x}{b}\\right)^{a-1}e^{-\\frac{x}{b}}}\\\\\n",
    "$$"
   ]
  },
  {
   "cell_type": "markdown",
   "metadata": {},
   "source": [
    "Vemos que a função de distribuição gamma se ajusta bem ao modelo, com uma distância relativamente baixa em relação à distribuição de $C$ para $n=12$."
   ]
  },
  {
   "cell_type": "markdown",
   "metadata": {},
   "source": [
    "### Teste de Qui-Quadrado"
   ]
  },
  {
   "cell_type": "markdown",
   "metadata": {},
   "source": [
    "Vamos executar o teste de aderência de Qui-Quadrado para $P(C_{12} = k)$. Vamos utilizar $n=12$ porque notamos que esse valor aproxima o critério de convergência das diferenças entre as distribuições - para diferentes valores de $n$. Na simulação realizada, o número de simulações foi $N = 657$. Teremos então, as seguintes frequências:"
   ]
  },
  {
   "cell_type": "code",
   "execution_count": 223,
   "metadata": {},
   "outputs": [],
   "source": [
    "distribuicao_12_frequencias = [p_*N_12 for p_ in distribuicao_12]\n",
    "gamma_frequencias = [p_*N_12 for p_ in gamma_valores]"
   ]
  },
  {
   "cell_type": "code",
   "execution_count": 224,
   "metadata": {},
   "outputs": [
    {
     "data": {
      "text/plain": [
       "[219.44109739543256,\n",
       " 288.20515484369474,\n",
       " 119.7651811773977,\n",
       " 31.070576931200566,\n",
       " 6.226631505472022,\n",
       " 1.0598439967542748,\n",
       " 0.1611732257170587,\n",
       " 0.022569632165702205,\n",
       " 0.002967552193836491,\n",
       " 0.00037127193681971686,\n",
       " 4.461970138882455e-05,\n",
       " 5.187339807632994e-06]"
      ]
     },
     "execution_count": 224,
     "metadata": {},
     "output_type": "execute_result"
    }
   ],
   "source": [
    "gamma_frequencias"
   ]
  },
  {
   "cell_type": "code",
   "execution_count": 225,
   "metadata": {},
   "outputs": [
    {
     "data": {
      "text/plain": [
       "[181.35263288107888,\n",
       " 289.56965437605356,\n",
       " 125.21011811800967,\n",
       " 43.83999444277384,\n",
       " 12.289561348222872,\n",
       " 3.502042961624583,\n",
       " 0.9813484059529242,\n",
       " 0.24182695346386876,\n",
       " 0.012820512820512822,\n",
       " 0.0,\n",
       " 0.0,\n",
       " 0.0]"
      ]
     },
     "execution_count": 225,
     "metadata": {},
     "output_type": "execute_result"
    }
   ],
   "source": [
    "distribuicao_12_frequencias"
   ]
  },
  {
   "cell_type": "code",
   "execution_count": 257,
   "metadata": {},
   "outputs": [
    {
     "data": {
      "text/plain": [
       "29.980960543494437"
      ]
     },
     "execution_count": 257,
     "metadata": {},
     "output_type": "execute_result"
    }
   ],
   "source": [
    "chi = []\n",
    "for i in range(len(gamma_frequencias)):\n",
    "    chi.append(((distribuicao_12_frequencias[i]-gamma_frequencias[i])**2)/gamma_frequencias[i])\n",
    "sum(chi)"
   ]
  },
  {
   "cell_type": "markdown",
   "metadata": {},
   "source": [
    "Vemos que esses parâmetros não aproximam bem a função de distribuição. Com parâmetros um pouco diferentes, veremos que a distribuição gamma aproxima bem a função, e aceitaremos a hipótese nula com $\\alpha = 0.05$."
   ]
  },
  {
   "cell_type": "code",
   "execution_count": 255,
   "metadata": {},
   "outputs": [
    {
     "data": {
      "text/plain": [
       "7.707183121793818"
      ]
     },
     "execution_count": 255,
     "metadata": {},
     "output_type": "execute_result"
    }
   ],
   "source": [
    "g_freq = [p_*N_12 for p_ in g_]\n",
    "chi = []\n",
    "for i in range(len(g_)):\n",
    "    chi.append(((distribuicao_12_frequencias[i]-g_freq[i])**2)/g_freq[i])\n",
    "sum(chi)"
   ]
  },
  {
   "cell_type": "code",
   "execution_count": 256,
   "metadata": {},
   "outputs": [
    {
     "data": {
      "text/plain": [
       "[193.67483521943035,\n",
       " 286.52247704746486,\n",
       " 134.11867448216688,\n",
       " 39.19310926664033,\n",
       " 8.847392400874359,\n",
       " 1.6963122292452746,\n",
       " 0.2905751501306195,\n",
       " 0.0458344240102527,\n",
       " 0.00678839941118026,\n",
       " 0.000956671571500984,\n",
       " 0.0001295087550401273,\n",
       " 1.695972833662823e-05]"
      ]
     },
     "execution_count": 256,
     "metadata": {},
     "output_type": "execute_result"
    }
   ],
   "source": [
    "g_freq"
   ]
  },
  {
   "cell_type": "markdown",
   "metadata": {},
   "source": [
    "## Experimentos com o Retorno mais Curto: T"
   ]
  },
  {
   "cell_type": "markdown",
   "metadata": {},
   "source": [
    "Note que, dada a estrutura definida para os grafos - não direcionado, e com linhas não zeradas na matriz de representação - os valores para $T$ sempre serão $1$ ou $2$"
   ]
  },
  {
   "cell_type": "markdown",
   "metadata": {},
   "source": [
    "### Modelo n=7"
   ]
  },
  {
   "cell_type": "code",
   "execution_count": 12,
   "metadata": {},
   "outputs": [
    {
     "data": {
      "image/png": "[encoded data removed]",
      "text/plain": [
       "<matplotlib.figure.Figure at 0x1836f285860>"
      ]
     },
     "metadata": {},
     "output_type": "display_data"
    }
   ],
   "source": [
    "n = 7\n",
    "valores_contados_7_T, distribuicao_7_T, N_7_T, media_7_T = simulacao_T(n, p)\n",
    "plt.bar(valores_contados_7_T, distribuicao_7_T)\n",
    "plt.show()"
   ]
  },
  {
   "cell_type": "code",
   "execution_count": 13,
   "metadata": {},
   "outputs": [
    {
     "name": "stdout",
     "output_type": "stream",
     "text": [
      "Número de Simulações para N=7:  588\n",
      "Media de T(V) para N=7:  1.6045266488196641\n"
     ]
    }
   ],
   "source": [
    "print(\"Número de Simulações para N=7: \", N_7_T)\n",
    "print(\"Media de T(V) para N=7: \", media_7_T)"
   ]
  },
  {
   "cell_type": "markdown",
   "metadata": {},
   "source": [
    "### Modelo n=8"
   ]
  },
  {
   "cell_type": "code",
   "execution_count": 29,
   "metadata": {},
   "outputs": [
    {
     "data": {
      "image/png": "[encoded data removed]",
      "text/plain": [
       "<matplotlib.figure.Figure at 0x183706cb7f0>"
      ]
     },
     "metadata": {},
     "output_type": "display_data"
    }
   ],
   "source": [
    "n = 8\n",
    "valores_contados_8_T, distribuicao_8_T, N_8_T, media_8_T = simulacao_T(n, p)\n",
    "plt.bar(valores_contados_8_T, distribuicao_8_T)\n",
    "plt.show()"
   ]
  },
  {
   "cell_type": "code",
   "execution_count": 30,
   "metadata": {},
   "outputs": [
    {
     "name": "stdout",
     "output_type": "stream",
     "text": [
      "Número de Simulações para N=8:  419\n",
      "Media de T(V) para N=8:  1.6540071770334928\n"
     ]
    }
   ],
   "source": [
    "print(\"Número de Simulações para N=8: \", N_8_T)\n",
    "print(\"Media de T(V) para N=8: \", media_8_T)"
   ]
  },
  {
   "cell_type": "markdown",
   "metadata": {},
   "source": [
    "### Modelo n=9"
   ]
  },
  {
   "cell_type": "code",
   "execution_count": 31,
   "metadata": {},
   "outputs": [
    {
     "data": {
      "image/png": "[encoded data removed]",
      "text/plain": [
       "<matplotlib.figure.Figure at 0x183706d4be0>"
      ]
     },
     "metadata": {},
     "output_type": "display_data"
    }
   ],
   "source": [
    "n = 9\n",
    "valores_contados_9_T, distribuicao_9_T, N_9_T, media_9_T = simulacao_T(n, p)\n",
    "plt.bar(valores_contados_9_T, distribuicao_9_T)\n",
    "plt.show()"
   ]
  },
  {
   "cell_type": "code",
   "execution_count": 32,
   "metadata": {},
   "outputs": [
    {
     "name": "stdout",
     "output_type": "stream",
     "text": [
      "Número de Simulações para N=9:  413\n",
      "Media de T(V) para N=9:  1.658036677454153\n"
     ]
    }
   ],
   "source": [
    "print(\"Número de Simulações para N=9: \", N_9_T)\n",
    "print(\"Media de T(V) para N=9: \", media_9_T)"
   ]
  },
  {
   "cell_type": "markdown",
   "metadata": {},
   "source": [
    "### Modelo n=10"
   ]
  },
  {
   "cell_type": "code",
   "execution_count": 33,
   "metadata": {},
   "outputs": [
    {
     "data": {
      "image/png": "[encoded data removed]",
      "text/plain": [
       "<matplotlib.figure.Figure at 0x183707441d0>"
      ]
     },
     "metadata": {},
     "output_type": "display_data"
    }
   ],
   "source": [
    "n = 10\n",
    "valores_contados_10_T, distribuicao_10_T, N_10_T, media_10_T = simulacao_T(n, p)\n",
    "plt.bar(valores_contados_10_T, distribuicao_10_T)\n",
    "plt.show()"
   ]
  },
  {
   "cell_type": "code",
   "execution_count": 34,
   "metadata": {},
   "outputs": [
    {
     "name": "stdout",
     "output_type": "stream",
     "text": [
      "Número de Simulações para N=10:  303\n",
      "Media de T(V) para N=10:  1.7043046357615896\n"
     ]
    }
   ],
   "source": [
    "print(\"Número de Simulações para N=10: \", N_10_T)\n",
    "print(\"Media de T(V) para N=10: \", media_10_T)"
   ]
  },
  {
   "cell_type": "markdown",
   "metadata": {},
   "source": [
    "### Modelo n=11"
   ]
  },
  {
   "cell_type": "code",
   "execution_count": 35,
   "metadata": {},
   "outputs": [
    {
     "data": {
      "image/png": "[encoded data removed]",
      "text/plain": [
       "<matplotlib.figure.Figure at 0x183707a7fd0>"
      ]
     },
     "metadata": {},
     "output_type": "display_data"
    }
   ],
   "source": [
    "n = 11\n",
    "valores_contados_11_T, distribuicao_11_T, N_11_T, media_11_T = simulacao_T(n, p)\n",
    "plt.bar(valores_contados_11_T, distribuicao_11_T)\n",
    "plt.show()"
   ]
  },
  {
   "cell_type": "code",
   "execution_count": 36,
   "metadata": {},
   "outputs": [
    {
     "name": "stdout",
     "output_type": "stream",
     "text": [
      "Número de Simulações para N=11:  241\n",
      "Media de T(V) para N=11:  1.728787878787879\n"
     ]
    }
   ],
   "source": [
    "print(\"Número de Simulações para N=11: \", N_11_T)\n",
    "print(\"Media de T(V) para N=11: \", media_11_T)"
   ]
  },
  {
   "cell_type": "markdown",
   "metadata": {},
   "source": [
    "### Modelo n=12"
   ]
  },
  {
   "cell_type": "code",
   "execution_count": 37,
   "metadata": {},
   "outputs": [
    {
     "data": {
      "image/png": "[encoded data removed]",
      "text/plain": [
       "<matplotlib.figure.Figure at 0x1837071d0b8>"
      ]
     },
     "metadata": {},
     "output_type": "display_data"
    }
   ],
   "source": [
    "n = 12\n",
    "valores_contados_12_T, distribuicao_12_T, N_12_T, media_12_T = simulacao_T(n, p)\n",
    "plt.bar(valores_contados_12_T, distribuicao_12_T)\n",
    "plt.show()"
   ]
  },
  {
   "cell_type": "code",
   "execution_count": 38,
   "metadata": {},
   "outputs": [
    {
     "name": "stdout",
     "output_type": "stream",
     "text": [
      "Número de Simulações para N=12:  233\n",
      "Media de T(V) para N=12:  1.7155172413793103\n"
     ]
    }
   ],
   "source": [
    "print(\"Número de Simulações para N=12: \", N_12_T)\n",
    "print(\"Media de T(V) para N=12: \", media_12_T)"
   ]
  },
  {
   "cell_type": "markdown",
   "metadata": {},
   "source": [
    "## Comparações Assintóticas para T(V)"
   ]
  },
  {
   "cell_type": "code",
   "execution_count": 39,
   "metadata": {},
   "outputs": [
    {
     "data": {
      "text/plain": [
       "0.0708015365781672"
      ]
     },
     "execution_count": 39,
     "metadata": {},
     "output_type": "execute_result"
    }
   ],
   "source": [
    "diff_7_8_T = []\n",
    "\n",
    "for i in range(7):\n",
    "    diff_7_8_T.append(math.fabs(distribuicao_7_T[i] - distribuicao_8_T[i]))\n",
    "np.linalg.norm(diff_7_8_T)"
   ]
  },
  {
   "cell_type": "code",
   "execution_count": 40,
   "metadata": {},
   "outputs": [
    {
     "data": {
      "text/plain": [
       "0.004982227861889213"
      ]
     },
     "execution_count": 40,
     "metadata": {},
     "output_type": "execute_result"
    }
   ],
   "source": [
    "diff_8_9_T = []\n",
    "\n",
    "for i in range(8):\n",
    "    diff_8_9_T.append(math.fabs(distribuicao_8_T[i] - distribuicao_9_T[i]))\n",
    "np.linalg.norm(diff_8_9_T)"
   ]
  },
  {
   "cell_type": "code",
   "execution_count": 41,
   "metadata": {},
   "outputs": [
    {
     "data": {
      "text/plain": [
       "0.06538313160215346"
      ]
     },
     "execution_count": 41,
     "metadata": {},
     "output_type": "execute_result"
    }
   ],
   "source": [
    "diff_9_10_T = []\n",
    "\n",
    "for i in range(9):\n",
    "    diff_9_10_T.append(math.fabs(distribuicao_9_T[i] - distribuicao_10_T[i]))\n",
    "np.linalg.norm(diff_9_10_T)"
   ]
  },
  {
   "cell_type": "code",
   "execution_count": 42,
   "metadata": {},
   "outputs": [
    {
     "data": {
      "text/plain": [
       "0.06538313160215346"
      ]
     },
     "execution_count": 42,
     "metadata": {},
     "output_type": "execute_result"
    }
   ],
   "source": [
    "diff_9_10_T = []\n",
    "\n",
    "for i in range(9):\n",
    "    diff_9_10_T.append(math.fabs(distribuicao_9_T[i] - distribuicao_10_T[i]))\n",
    "np.linalg.norm(diff_9_10_T)"
   ]
  },
  {
   "cell_type": "code",
   "execution_count": 43,
   "metadata": {},
   "outputs": [
    {
     "data": {
      "text/plain": [
       "0.017537730578058717"
      ]
     },
     "execution_count": 43,
     "metadata": {},
     "output_type": "execute_result"
    }
   ],
   "source": [
    "diff_11_12_T = []\n",
    "\n",
    "for i in range(11):\n",
    "    diff_11_12_T.append(math.fabs(distribuicao_11_T[i] - distribuicao_12_T[i]))\n",
    "np.linalg.norm(diff_11_12_T)"
   ]
  },
  {
   "cell_type": "markdown",
   "metadata": {},
   "source": [
    "Notamos que para $T(V)$ as diferenças não escaladas quase alcançam o critério de convergência"
   ]
  },
  {
   "cell_type": "code",
   "execution_count": 44,
   "metadata": {},
   "outputs": [],
   "source": [
    "distribuicao_12_T_espelho = [1-p_ if p_ >0 else 0 for p_ in distribuicao_12_T]"
   ]
  },
  {
   "cell_type": "code",
   "execution_count": 45,
   "metadata": {},
   "outputs": [
    {
     "data": {
      "text/plain": [
       "[0.7163805436337627, 0.28361945636623775, 0, 0, 0, 0, 0, 0, 0, 0, 0, 0]"
      ]
     },
     "execution_count": 45,
     "metadata": {},
     "output_type": "execute_result"
    }
   ],
   "source": [
    "distribuicao_12_T_espelho"
   ]
  },
  {
   "cell_type": "code",
   "execution_count": 46,
   "metadata": {},
   "outputs": [
    {
     "data": {
      "image/png": "[encoded data removed]",
      "text/plain": [
       "<matplotlib.figure.Figure at 0x1837088e2b0>"
      ]
     },
     "metadata": {},
     "output_type": "display_data"
    }
   ],
   "source": [
    "plt.bar(valores_contados_12_T, distribuicao_12_T_espelho)\n",
    "plt.show()"
   ]
  },
  {
   "cell_type": "markdown",
   "metadata": {},
   "source": [
    "Binomial Negativa:\n",
    "$${\\displaystyle f(k;r,p)\\equiv \\Pr(X=k)={\\binom {k+r-1}{k}}p^{k}(1-p)^{r}}$$"
   ]
  },
  {
   "cell_type": "code",
   "execution_count": 150,
   "metadata": {},
   "outputs": [
    {
     "data": {
      "image/png": "[encoded data removed]",
      "text/plain": [
       "<matplotlib.figure.Figure at 0x183708306a0>"
      ]
     },
     "metadata": {},
     "output_type": "display_data"
    }
   ],
   "source": [
    "n_, p_p = 0.91, 0.69\n",
    "x = np.arange(nbinom.ppf(0.01, n_, p_p), nbinom.ppf(0.99, n_, p_p))\n",
    "w = [nbinom.pmf(x_, n_, p_p) for x_ in x]\n",
    "plt.plot(x, w)\n",
    "plt.show()"
   ]
  },
  {
   "cell_type": "markdown",
   "metadata": {},
   "source": [
    "Note que os primeiros valores da distribuição binomial negativa com parâmetros $n = 0.4$ e $p = 0.4$ são semelhantes aos valores encontrados na distribuição espelhada da estimativa da distribuição de $T(V)$ para $12$ vértices. Vamos, então, fazer uma translação nessa distribuição binomial negativa para os valores  nos quais a distribuição estimativa de $P(T(V) = k)$ está definida - basta transladarmos a distribuição binomial negativa um passo a frente, iniciando do ponto $1$. \n",
    "\n",
    "A translação conceitual será feita, na prática, completando-se o vetor que possui os valores da binomial negativa com $0$'s - podemos fazer isso porque esse vetor corresponde à concentração de aproximadamente $0.99$ da probabilidade da binomial negativa - e utilizando os índices desse vetor da mesma forma como os índices do vetor distribuição da estimativa de $P(T(V) = k)$. "
   ]
  },
  {
   "cell_type": "code",
   "execution_count": 152,
   "metadata": {},
   "outputs": [
    {
     "data": {
      "text/plain": [
       "[0.7134321436685978, 0.20125920772891154, 0.059582788448144276]"
      ]
     },
     "execution_count": 152,
     "metadata": {},
     "output_type": "execute_result"
    }
   ],
   "source": [
    "w"
   ]
  },
  {
   "cell_type": "code",
   "execution_count": 153,
   "metadata": {},
   "outputs": [
    {
     "data": {
      "text/plain": [
       "1.2946989244708538"
      ]
     },
     "execution_count": 153,
     "metadata": {},
     "output_type": "execute_result"
    }
   ],
   "source": [
    "np.dot(w, [1, 2, 3])"
   ]
  },
  {
   "cell_type": "code",
   "execution_count": 154,
   "metadata": {},
   "outputs": [
    {
     "data": {
      "text/plain": [
       "1.2836194563662382"
      ]
     },
     "execution_count": 154,
     "metadata": {},
     "output_type": "execute_result"
    }
   ],
   "source": [
    "np.dot(distribuicao_12_T_espelho, np.arange(1, len(distribuicao_12_T_espelho) + 1))"
   ]
  },
  {
   "cell_type": "code",
   "execution_count": 151,
   "metadata": {},
   "outputs": [
    {
     "data": {
      "text/plain": [
       "21.73862629944883"
      ]
     },
     "execution_count": 151,
     "metadata": {},
     "output_type": "execute_result"
    }
   ],
   "source": [
    "freq_teorica = [p_*N_12_T for p_ in w]\n",
    "freq_real = [p_*N_12_T for p_ in distribuicao_12_T_espelho]\n",
    "chi = []\n",
    "for i in range(len(w)):\n",
    "    chi.append(((freq_real[i]-freq_teorica[i])**2)/freq_teorica[i])\n",
    "sum(chi)"
   ]
  },
  {
   "cell_type": "markdown",
   "metadata": {},
   "source": [
    "Notamos que a distribuição proposta é razoável para a distribuição espelhada da estimativa de $P(T(V)=k)$. Como essa distribuição tem $12$ categorias, segue que o cálculo do qui quadrado tem $11$ graus de liberdade. Com $\\alpha = 0.05$ devemos rejeitar a hipótese nula, ou seja, rejeitamos a hipótese de que a distribuição espelhada pode ser dada por uma binomial negativa com os parâmetros propostos. Todavia, com $\\alpha = 0.025$ nós não rejeitamos a hipótese nula, pois a estatística de qui quadrado para esse valor de $\\alpha$ equivale a $21.92$, e, no experimento realizado, foi obtido o valor de $21.73$ para essa estatística"
   ]
  }
 ],
 "metadata": {
  "kernelspec": {
   "display_name": "Python 3",
   "language": "python",
   "name": "python3"
  },
  "language_info": {
   "codemirror_mode": {
    "name": "ipython",
    "version": 3
   },
   "file_extension": ".py",
   "mimetype": "text/x-python",
   "name": "python",
   "nbconvert_exporter": "python",
   "pygments_lexer": "ipython3",
   "version": "3.6.4"
  }
 },
 "nbformat": 4,
 "nbformat_minor": 2
}
